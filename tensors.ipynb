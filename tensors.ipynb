{
 "cells": [
  {
   "cell_type": "markdown",
   "metadata": {},
   "source": [
    "# Tensors & Data Structures in PyTorch"
   ]
  },
  {
   "cell_type": "markdown",
   "metadata": {},
   "source": [
    "## Tensors\n",
    "\n",
    "Tensors are multi-dimentional array or nd-array. Tensor is a generalization because we use tensors for all dimentions of N. For example a _scalar_ value is a 0 dimentional tensor, a _vector_ is a 1 dimentional tensor, a _matrix_ is a 2 dimentional vector, and a _nd-array_ is a n dimentional tensor. In Mechine learning we drop all these sepecific terms and use only tensors - where N indicates the number of dimentionality. \n",
    "\n",
    "One thing to keep in mind that the dimention of a tensor is different from what we generally refer to as dimentionality - say for vector space. In Vector space the dimentionality referes to how many elements are there in a vector. Where as the term dimention in a tensor means how many indices we are requied with when accessing the elements from a tensor."
   ]
  },
  {
   "cell_type": "code",
   "execution_count": 2,
   "metadata": {},
   "outputs": [
    {
     "data": {
      "text/plain": [
       "True"
      ]
     },
     "execution_count": 2,
     "metadata": {},
     "output_type": "execute_result"
    }
   ],
   "source": [
    "import torch\n",
    "\n",
    "torch.cuda.is_available()"
   ]
  },
  {
   "cell_type": "markdown",
   "metadata": {},
   "source": [
    "## Rank of a Tensor\n",
    "\n",
    "Rank of a tensor tells us how many indecies we are requied with when accessing any elements from that array."
   ]
  },
  {
   "cell_type": "code",
   "execution_count": 4,
   "metadata": {},
   "outputs": [
    {
     "name": "stdout",
     "output_type": "stream",
     "text": [
      "4\n"
     ]
    }
   ],
   "source": [
    "a = [1,2,3,4,5] # rank 1 array\n",
    "print(a[3]) # need only one index to refere to a perticular item"
   ]
  },
  {
   "cell_type": "code",
   "execution_count": 16,
   "metadata": {},
   "outputs": [
    {
     "name": "stdout",
     "output_type": "stream",
     "text": [
      "2\n"
     ]
    }
   ],
   "source": [
    "a = [[1,2],[3,4],[5,6],[7,8],[9,10]] # rank 2 array\n",
    "print(a[0][1]) # need two index to refere to a perticular item"
   ]
  },
  {
   "cell_type": "markdown",
   "metadata": {},
   "source": [
    "# Axes of Tensors\n",
    "\n",
    "The first axes has a lenth of 5. Each element is an array."
   ]
  },
  {
   "cell_type": "code",
   "execution_count": 17,
   "metadata": {},
   "outputs": [
    {
     "name": "stdout",
     "output_type": "stream",
     "text": [
      "[1, 2]\n",
      "[3, 4]\n",
      "[5, 6]\n",
      "[7, 8]\n",
      "[9, 10]\n"
     ]
    }
   ],
   "source": [
    "print(a[0])\n",
    "print(a[1])\n",
    "print(a[2])\n",
    "print(a[3])\n",
    "print(a[4])"
   ]
  },
  {
   "cell_type": "markdown",
   "metadata": {},
   "source": [
    "The second axes has a length of 2. Each element along the second axis is a number."
   ]
  },
  {
   "cell_type": "code",
   "execution_count": 19,
   "metadata": {},
   "outputs": [
    {
     "name": "stdout",
     "output_type": "stream",
     "text": [
      "1\n",
      "3\n",
      "5\n",
      "7\n",
      "9\n"
     ]
    }
   ],
   "source": [
    "# First index of axis 2\n",
    "print(a[0][0])\n",
    "print(a[1][0])\n",
    "print(a[2][0])\n",
    "print(a[3][0])\n",
    "print(a[4][0])"
   ]
  },
  {
   "cell_type": "code",
   "execution_count": 20,
   "metadata": {},
   "outputs": [
    {
     "name": "stdout",
     "output_type": "stream",
     "text": [
      "2\n",
      "4\n",
      "6\n",
      "8\n",
      "10\n"
     ]
    }
   ],
   "source": [
    "# Second index of axis 2\n",
    "print(a[0][1])\n",
    "print(a[1][1])\n",
    "print(a[2][1])\n",
    "print(a[3][1])\n",
    "print(a[4][1])"
   ]
  },
  {
   "cell_type": "markdown",
   "metadata": {},
   "source": [
    "With Tensors - the element of the last axes are always numbers. Every other axes will contain nd-array. We just saw an example with 2D-Tensor (Matrix). But, this idea extends to any nd-arrays.\n",
    "\n",
    "The rank of tensor tells us how many axes a tensor has.\n"
   ]
  },
  {
   "cell_type": "code",
   "execution_count": null,
   "metadata": {},
   "outputs": [],
   "source": []
  },
  {
   "cell_type": "code",
   "execution_count": null,
   "metadata": {},
   "outputs": [],
   "source": []
  },
  {
   "cell_type": "code",
   "execution_count": null,
   "metadata": {},
   "outputs": [],
   "source": []
  }
 ],
 "metadata": {
  "kernelspec": {
   "display_name": "Python 3.9.12 ('pytorch1.11')",
   "language": "python",
   "name": "python3"
  },
  "language_info": {
   "codemirror_mode": {
    "name": "ipython",
    "version": 3
   },
   "file_extension": ".py",
   "mimetype": "text/x-python",
   "name": "python",
   "nbconvert_exporter": "python",
   "pygments_lexer": "ipython3",
   "version": "3.9.12"
  },
  "orig_nbformat": 4,
  "vscode": {
   "interpreter": {
    "hash": "1fad841e4cd9f1a725af0ab674b147897c833fa06078ad76bbc992ec4a185d9c"
   }
  }
 },
 "nbformat": 4,
 "nbformat_minor": 2
}
