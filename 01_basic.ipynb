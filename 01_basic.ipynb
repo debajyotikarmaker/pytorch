{
 "cells": [
  {
   "cell_type": "code",
   "execution_count": 1,
   "metadata": {},
   "outputs": [],
   "source": [
    "import torch"
   ]
  },
  {
   "cell_type": "code",
   "execution_count": 8,
   "metadata": {},
   "outputs": [
    {
     "data": {
      "text/plain": [
       "tensor([[1, 2, 3],\n",
       "        [4, 5, 6]])"
      ]
     },
     "execution_count": 8,
     "metadata": {},
     "output_type": "execute_result"
    }
   ],
   "source": [
    "a = torch.tensor([[1,2,3],[4,5,6]])\n",
    "a"
   ]
  },
  {
   "cell_type": "code",
   "execution_count": 9,
   "metadata": {},
   "outputs": [
    {
     "data": {
      "text/plain": [
       "tensor([[1., 2., 3.],\n",
       "        [4., 5., 6.]])"
      ]
     },
     "execution_count": 9,
     "metadata": {},
     "output_type": "execute_result"
    }
   ],
   "source": [
    "a = torch.tensor([[1,2,3],[4,5,6]], dtype=torch.float32)\n",
    "a"
   ]
  },
  {
   "cell_type": "code",
   "execution_count": 10,
   "metadata": {},
   "outputs": [
    {
     "data": {
      "text/plain": [
       "tensor([[1, 2, 3],\n",
       "        [4, 5, 6]], device='cuda:0')"
      ]
     },
     "execution_count": 10,
     "metadata": {},
     "output_type": "execute_result"
    }
   ],
   "source": [
    "a = torch.tensor([[1,2,3],[4,5,6]], device=\"cuda\")\n",
    "a"
   ]
  },
  {
   "cell_type": "code",
   "execution_count": 11,
   "metadata": {},
   "outputs": [
    {
     "data": {
      "text/plain": [
       "tensor([[1., 2., 3.],\n",
       "        [4., 5., 6.]], requires_grad=True)"
      ]
     },
     "execution_count": 11,
     "metadata": {},
     "output_type": "execute_result"
    }
   ],
   "source": [
    "a = torch.tensor([[1,2,3],[4,5,6]], \n",
    "                dtype=torch.float32,requires_grad=True)\n",
    "a"
   ]
  },
  {
   "cell_type": "code",
   "execution_count": 14,
   "metadata": {},
   "outputs": [
    {
     "name": "stdout",
     "output_type": "stream",
     "text": [
      "tensor([[1., 2., 3.],\n",
      "        [4., 5., 6.]], device='cuda:0', requires_grad=True)\n",
      "torch.float32\n",
      "cuda:0\n",
      "torch.Size([2, 3])\n",
      "True\n"
     ]
    }
   ],
   "source": [
    "device = \"cuda\" if torch.cuda.is_available() else \"cpu\"\n",
    "\n",
    "a = torch.tensor([[1,2,3],[4,5,6]], \n",
    "                dtype=torch.float32,\n",
    "                requires_grad=True,\n",
    "                device=device)\n",
    "print(a)\n",
    "print(a.dtype)\n",
    "print(a.device)\n",
    "print(a.shape)\n",
    "print(a.requires_grad)"
   ]
  },
  {
   "cell_type": "code",
   "execution_count": 18,
   "metadata": {},
   "outputs": [
    {
     "name": "stdout",
     "output_type": "stream",
     "text": [
      "tensor([[0., 0., 0.],\n",
      "        [0., 0., 0.],\n",
      "        [0., 0., 0.]])\n",
      "tensor([[0., 0., 0.],\n",
      "        [0., 0., 0.],\n",
      "        [0., 0., 0.]])\n"
     ]
    }
   ],
   "source": [
    "a = torch.empty(size=(3,3))\n",
    "print(a)\n",
    "\n",
    "a = torch.zeros(size=(3,3))\n",
    "print(a)"
   ]
  },
  {
   "cell_type": "code",
   "execution_count": 20,
   "metadata": {},
   "outputs": [
    {
     "name": "stdout",
     "output_type": "stream",
     "text": [
      "tensor([[0.6009, 0.1086, 0.7567],\n",
      "        [0.9815, 0.3147, 0.6987],\n",
      "        [0.3903, 0.6449, 0.5923]])\n"
     ]
    }
   ],
   "source": [
    "a = torch.rand(size=(3,3))\n",
    "print(a)"
   ]
  },
  {
   "cell_type": "code",
   "execution_count": 22,
   "metadata": {},
   "outputs": [
    {
     "name": "stdout",
     "output_type": "stream",
     "text": [
      "tensor([[1., 1., 1.],\n",
      "        [1., 1., 1.],\n",
      "        [1., 1., 1.]])\n"
     ]
    }
   ],
   "source": [
    "a = torch.ones(size=(3,3))\n",
    "print(a)"
   ]
  },
  {
   "cell_type": "code",
   "execution_count": 25,
   "metadata": {},
   "outputs": [
    {
     "name": "stdout",
     "output_type": "stream",
     "text": [
      "tensor([[1., 0., 0., 0., 0.],\n",
      "        [0., 1., 0., 0., 0.],\n",
      "        [0., 0., 1., 0., 0.],\n",
      "        [0., 0., 0., 1., 0.],\n",
      "        [0., 0., 0., 0., 1.]])\n"
     ]
    }
   ],
   "source": [
    "a = torch.eye(5)\n",
    "print(a)"
   ]
  },
  {
   "cell_type": "code",
   "execution_count": 26,
   "metadata": {},
   "outputs": [
    {
     "name": "stdout",
     "output_type": "stream",
     "text": [
      "tensor([0, 1, 2, 3, 4])\n"
     ]
    }
   ],
   "source": [
    "a = torch.arange(start=0, end=5, step=1)\n",
    "print(a)"
   ]
  },
  {
   "cell_type": "code",
   "execution_count": 27,
   "metadata": {},
   "outputs": [
    {
     "name": "stdout",
     "output_type": "stream",
     "text": [
      "tensor([0.1000, 0.2000, 0.3000, 0.4000, 0.5000, 0.6000, 0.7000, 0.8000, 0.9000,\n",
      "        1.0000])\n"
     ]
    }
   ],
   "source": [
    "a = torch.linspace(start=0.1, end=1, steps=10)\n",
    "print(a)"
   ]
  },
  {
   "cell_type": "code",
   "execution_count": 28,
   "metadata": {},
   "outputs": [
    {
     "name": "stdout",
     "output_type": "stream",
     "text": [
      "tensor([[ 0.8503,  0.9721, -0.7903, -0.2689, -0.8571]])\n"
     ]
    }
   ],
   "source": [
    "a = torch.empty(size=(1,5)).normal_(mean=0,std=1)\n",
    "print(a)"
   ]
  },
  {
   "cell_type": "code",
   "execution_count": 32,
   "metadata": {},
   "outputs": [
    {
     "name": "stdout",
     "output_type": "stream",
     "text": [
      "tensor([[0.3096, 2.4084, 9.7625, 5.3740, 3.4717]])\n"
     ]
    }
   ],
   "source": [
    "a = torch.empty(size=(1,5)).uniform_(0,10)\n",
    "print(a)"
   ]
  },
  {
   "cell_type": "code",
   "execution_count": 35,
   "metadata": {},
   "outputs": [
    {
     "name": "stdout",
     "output_type": "stream",
     "text": [
      "tensor([[1., 0., 0.],\n",
      "        [0., 1., 0.],\n",
      "        [0., 0., 1.]])\n"
     ]
    }
   ],
   "source": [
    "a = torch.diag(torch.ones(3))\n",
    "print(a)"
   ]
  },
  {
   "cell_type": "code",
   "execution_count": 41,
   "metadata": {},
   "outputs": [
    {
     "name": "stdout",
     "output_type": "stream",
     "text": [
      "tensor([0, 1, 2, 3, 4])\n",
      "tensor([False,  True,  True,  True,  True])\n",
      "tensor([0, 1, 2, 3, 4], dtype=torch.int16)\n",
      "tensor([0, 1, 2, 3, 4])\n",
      "tensor([0., 1., 2., 3., 4.], dtype=torch.float16)\n",
      "tensor([0., 1., 2., 3., 4.])\n",
      "tensor([0., 1., 2., 3., 4.], dtype=torch.float64)\n"
     ]
    }
   ],
   "source": [
    "t = torch.arange(5)\n",
    "print(t)\n",
    "print(t.bool())\n",
    "print(t.short())\n",
    "print(t.long())\n",
    "print(t.half())\n",
    "print(t.float())\n",
    "print(t.double())"
   ]
  },
  {
   "cell_type": "code",
   "execution_count": 42,
   "metadata": {},
   "outputs": [],
   "source": [
    "import numpy as np"
   ]
  },
  {
   "cell_type": "code",
   "execution_count": 44,
   "metadata": {},
   "outputs": [
    {
     "name": "stdout",
     "output_type": "stream",
     "text": [
      "tensor([[0., 0., 0., 0., 0.],\n",
      "        [0., 0., 0., 0., 0.],\n",
      "        [0., 0., 0., 0., 0.],\n",
      "        [0., 0., 0., 0., 0.],\n",
      "        [0., 0., 0., 0., 0.]], dtype=torch.float64)\n",
      "[[0. 0. 0. 0. 0.]\n",
      " [0. 0. 0. 0. 0.]\n",
      " [0. 0. 0. 0. 0.]\n",
      " [0. 0. 0. 0. 0.]\n",
      " [0. 0. 0. 0. 0.]]\n"
     ]
    }
   ],
   "source": [
    "np_array = np.zeros((5,5))\n",
    "tensor = torch.from_numpy(np_array)\n",
    "print(tensor)\n",
    "print(tensor.numpy())"
   ]
  },
  {
   "cell_type": "code",
   "execution_count": 45,
   "metadata": {},
   "outputs": [],
   "source": [
    "a = torch.tensor([1,2,3])\n",
    "b = torch.tensor([9,8,7])"
   ]
  },
  {
   "cell_type": "code",
   "execution_count": 46,
   "metadata": {},
   "outputs": [
    {
     "name": "stdout",
     "output_type": "stream",
     "text": [
      "tensor([10., 10., 10.])\n"
     ]
    }
   ],
   "source": [
    "c = torch.empty(3)\n",
    "torch.add(a,b,out=c)\n",
    "print(c)"
   ]
  },
  {
   "cell_type": "code",
   "execution_count": 47,
   "metadata": {},
   "outputs": [
    {
     "name": "stdout",
     "output_type": "stream",
     "text": [
      "tensor([10, 10, 10])\n",
      "tensor([10, 10, 10])\n"
     ]
    }
   ],
   "source": [
    "c = torch.add(a,b)\n",
    "print(c)\n",
    "c = a+b\n",
    "print(c)"
   ]
  },
  {
   "cell_type": "code",
   "execution_count": 48,
   "metadata": {},
   "outputs": [
    {
     "name": "stdout",
     "output_type": "stream",
     "text": [
      "tensor([-8, -6, -4])\n"
     ]
    }
   ],
   "source": [
    "c = a-b\n",
    "print(c)"
   ]
  },
  {
   "cell_type": "code",
   "execution_count": 50,
   "metadata": {},
   "outputs": [
    {
     "name": "stdout",
     "output_type": "stream",
     "text": [
      "tensor([0.1111, 0.2500, 0.4286])\n"
     ]
    }
   ],
   "source": [
    "c = torch.true_divide(a,b)\n",
    "print(c)"
   ]
  },
  {
   "cell_type": "code",
   "execution_count": 51,
   "metadata": {},
   "outputs": [
    {
     "name": "stdout",
     "output_type": "stream",
     "text": [
      "tensor([1, 2, 3])\n",
      "tensor([1., 2., 3.])\n"
     ]
    }
   ],
   "source": [
    "t = torch.zeros(3)\n",
    "t.add_(a)\n",
    "print(a)\n",
    "print(t)"
   ]
  },
  {
   "cell_type": "code",
   "execution_count": 52,
   "metadata": {},
   "outputs": [
    {
     "name": "stdout",
     "output_type": "stream",
     "text": [
      "tensor([2., 4., 6.])\n"
     ]
    }
   ],
   "source": [
    "t += a\n",
    "print(t)"
   ]
  },
  {
   "cell_type": "code",
   "execution_count": 53,
   "metadata": {},
   "outputs": [
    {
     "name": "stdout",
     "output_type": "stream",
     "text": [
      "tensor([1, 4, 9])\n"
     ]
    }
   ],
   "source": [
    "c = a.pow(2)\n",
    "print(c)"
   ]
  },
  {
   "cell_type": "code",
   "execution_count": 54,
   "metadata": {},
   "outputs": [
    {
     "name": "stdout",
     "output_type": "stream",
     "text": [
      "tensor([1, 4, 9])\n"
     ]
    }
   ],
   "source": [
    "print(a**2)"
   ]
  },
  {
   "cell_type": "code",
   "execution_count": 55,
   "metadata": {},
   "outputs": [
    {
     "name": "stdout",
     "output_type": "stream",
     "text": [
      "tensor([True, True, True])\n"
     ]
    }
   ],
   "source": [
    "z = a>0\n",
    "print(z)"
   ]
  },
  {
   "cell_type": "code",
   "execution_count": 59,
   "metadata": {},
   "outputs": [
    {
     "name": "stdout",
     "output_type": "stream",
     "text": [
      "tensor([[1.4419, 1.2242, 1.6706],\n",
      "        [1.3128, 1.2973, 1.4851]])\n",
      "tensor([[1.4419, 1.2242, 1.6706],\n",
      "        [1.3128, 1.2973, 1.4851]])\n"
     ]
    }
   ],
   "source": [
    "x1 = torch.rand(2,5)\n",
    "x2 = torch.rand(5,3)\n",
    "y = torch.mm(x1,x2)\n",
    "print(y)\n",
    "y = x1.mm(x2)\n",
    "print(y)"
   ]
  },
  {
   "cell_type": "code",
   "execution_count": 60,
   "metadata": {},
   "outputs": [
    {
     "name": "stdout",
     "output_type": "stream",
     "text": [
      "tensor([[0.4735, 0.2367, 0.9274, 0.7282, 0.6384],\n",
      "        [0.4572, 0.2614, 0.9109, 0.4561, 0.1360],\n",
      "        [0.1521, 0.0492, 0.1979, 0.3306, 0.4728],\n",
      "        [0.1046, 0.0362, 0.6037, 0.4125, 0.6059],\n",
      "        [0.2622, 0.3902, 0.0582, 0.1063, 0.5059]])\n",
      "tensor([[1.2867, 1.0043, 2.1461, 1.8111, 2.6076],\n",
      "        [0.9576, 0.7285, 1.6464, 1.4227, 2.0653],\n",
      "        [0.5267, 0.4184, 0.8540, 0.6986, 0.9849],\n",
      "        [0.6903, 0.5694, 1.0976, 0.8966, 1.3063],\n",
      "        [0.6906, 0.4779, 1.2229, 0.9927, 1.2551]])\n"
     ]
    }
   ],
   "source": [
    "# matrix exponentiation\n",
    "me = torch.rand(5,5)\n",
    "print(me)\n",
    "print(me.matrix_power(3))"
   ]
  },
  {
   "cell_type": "code",
   "execution_count": 61,
   "metadata": {},
   "outputs": [
    {
     "name": "stdout",
     "output_type": "stream",
     "text": [
      "tensor([ 9, 16, 21])\n"
     ]
    }
   ],
   "source": [
    "# element-wise multiplication\n",
    "\n",
    "c = a*b\n",
    "print(c)"
   ]
  },
  {
   "cell_type": "code",
   "execution_count": 62,
   "metadata": {},
   "outputs": [
    {
     "name": "stdout",
     "output_type": "stream",
     "text": [
      "tensor(46)\n"
     ]
    }
   ],
   "source": [
    "# dot product\n",
    "c = torch.dot(a,b)\n",
    "print(c)"
   ]
  },
  {
   "cell_type": "code",
   "execution_count": 64,
   "metadata": {},
   "outputs": [],
   "source": [
    "batch = 32\n",
    "n = 10\n",
    "m = 20\n",
    "p = 30\n",
    "\n",
    "t1 = torch.rand(batch, n, m)\n",
    "t2 = torch.rand(batch, m, p)\n",
    "out_bmm = torch.bmm(t1, t2)"
   ]
  },
  {
   "cell_type": "code",
   "execution_count": 66,
   "metadata": {},
   "outputs": [
    {
     "name": "stdout",
     "output_type": "stream",
     "text": [
      "tensor([[0.7250, 0.8515, 0.5599, 0.4745, 0.2303],\n",
      "        [0.5008, 0.1775, 0.1320, 0.0891, 0.4904],\n",
      "        [0.4066, 0.2552, 0.1807, 0.2008, 0.8385],\n",
      "        [0.5808, 0.0181, 0.3522, 0.7030, 0.4208],\n",
      "        [0.5838, 0.7576, 0.1649, 0.6072, 0.6027]])\n",
      "tensor([[0.8774, 0.4013, 0.8944, 0.7385, 0.9609]])\n",
      "tensor([[-0.1524,  0.4501, -0.3345, -0.2640, -0.7306],\n",
      "        [-0.3765, -0.2238, -0.7624, -0.6495, -0.4705],\n",
      "        [-0.4707, -0.1461, -0.7136, -0.5377, -0.1224],\n",
      "        [-0.2965, -0.3833, -0.5422, -0.0355, -0.5402],\n",
      "        [-0.2935,  0.3562, -0.7295, -0.1314, -0.3583]])\n"
     ]
    }
   ],
   "source": [
    "# Broad casting\n",
    "\n",
    "x1 = torch.rand(5,5)\n",
    "x2 = torch.rand(1,5)\n",
    "y = x1-x2\n",
    "print(x1)\n",
    "print(x2)\n",
    "print(y)"
   ]
  },
  {
   "cell_type": "code",
   "execution_count": 67,
   "metadata": {},
   "outputs": [
    {
     "name": "stdout",
     "output_type": "stream",
     "text": [
      "tensor([[0.7541, 0.9375, 0.5952, 0.5766, 0.2439],\n",
      "        [0.5451, 0.4997, 0.1635, 0.1676, 0.5042],\n",
      "        [0.4541, 0.5781, 0.2165, 0.3056, 0.8443],\n",
      "        [0.6209, 0.1997, 0.3932, 0.7709, 0.4352],\n",
      "        [0.6237, 0.8946, 0.1995, 0.6918, 0.6147]])\n"
     ]
    }
   ],
   "source": [
    "y = x1 ** x2\n",
    "print(y)"
   ]
  },
  {
   "cell_type": "code",
   "execution_count": 69,
   "metadata": {},
   "outputs": [
    {
     "name": "stdout",
     "output_type": "stream",
     "text": [
      "tensor(6)\n"
     ]
    }
   ],
   "source": [
    "sum_a = torch.sum(a, dim=0)\n",
    "print(sum_a)"
   ]
  },
  {
   "cell_type": "code",
   "execution_count": 70,
   "metadata": {},
   "outputs": [
    {
     "name": "stdout",
     "output_type": "stream",
     "text": [
      "tensor(3) tensor(2)\n"
     ]
    }
   ],
   "source": [
    "values, indices = torch.max(a, dim=0)\n",
    "print(values, indices)"
   ]
  },
  {
   "cell_type": "code",
   "execution_count": 71,
   "metadata": {},
   "outputs": [
    {
     "name": "stdout",
     "output_type": "stream",
     "text": [
      "tensor(1) tensor(0)\n"
     ]
    }
   ],
   "source": [
    "values, indices = torch.min(a, dim=0)\n",
    "print(values, indices)"
   ]
  },
  {
   "cell_type": "code",
   "execution_count": 72,
   "metadata": {},
   "outputs": [
    {
     "name": "stdout",
     "output_type": "stream",
     "text": [
      "tensor([1, 2, 3])\n"
     ]
    }
   ],
   "source": [
    "abs_a = torch.abs(a)\n",
    "print(abs_a)"
   ]
  },
  {
   "cell_type": "code",
   "execution_count": 73,
   "metadata": {},
   "outputs": [
    {
     "name": "stdout",
     "output_type": "stream",
     "text": [
      "tensor(2)\n"
     ]
    }
   ],
   "source": [
    "c = torch.argmax(a, dim=0)\n",
    "print(c)"
   ]
  },
  {
   "cell_type": "code",
   "execution_count": 75,
   "metadata": {},
   "outputs": [
    {
     "name": "stdout",
     "output_type": "stream",
     "text": [
      "tensor(2., dtype=torch.float16)\n"
     ]
    }
   ],
   "source": [
    "mean_a = torch.mean(a.half(), dim=0)\n",
    "print(mean_a)"
   ]
  },
  {
   "cell_type": "code",
   "execution_count": 76,
   "metadata": {},
   "outputs": [
    {
     "name": "stdout",
     "output_type": "stream",
     "text": [
      "tensor([False, False, False])\n"
     ]
    }
   ],
   "source": [
    "c = torch.eq(a,b)\n",
    "print(c)"
   ]
  },
  {
   "cell_type": "code",
   "execution_count": 80,
   "metadata": {},
   "outputs": [
    {
     "name": "stdout",
     "output_type": "stream",
     "text": [
      "tensor([9, 8, 7])\n",
      "tensor([7, 8, 9])\n",
      "tensor([2, 1, 0])\n"
     ]
    }
   ],
   "source": [
    "print(b)\n",
    "sorted_b, indices = torch.sort(b, dim=0, descending=False)\n",
    "print(sorted_b)\n",
    "print(indices)"
   ]
  },
  {
   "cell_type": "code",
   "execution_count": 82,
   "metadata": {},
   "outputs": [
    {
     "name": "stdout",
     "output_type": "stream",
     "text": [
      "tensor([1, 2, 3])\n",
      "tensor([1, 2, 2])\n"
     ]
    }
   ],
   "source": [
    "c = torch.clamp(a, min=0, max=2)\n",
    "print(a)\n",
    "print(c)"
   ]
  },
  {
   "cell_type": "code",
   "execution_count": 84,
   "metadata": {},
   "outputs": [
    {
     "name": "stdout",
     "output_type": "stream",
     "text": [
      "tensor(True)\n",
      "tensor(False)\n"
     ]
    }
   ],
   "source": [
    "x = torch.tensor([1,0,1,1,1], dtype=torch.bool)\n",
    "z = torch.any(x)\n",
    "print(z)\n",
    "z = torch.all(x)\n",
    "print(z)"
   ]
  },
  {
   "cell_type": "code",
   "execution_count": 88,
   "metadata": {},
   "outputs": [
    {
     "name": "stdout",
     "output_type": "stream",
     "text": [
      "torch.Size([25])\n",
      "tensor([0.6110, 0.6717, 0.2135, 0.9642, 0.1474, 0.8865, 0.3119, 0.7986, 0.9963,\n",
      "        0.3543, 0.3547, 0.4177, 0.2388, 0.0306, 0.7015, 0.3734, 0.8919, 0.8467,\n",
      "        0.7987, 0.8303, 0.0645, 0.4145, 0.2775, 0.6057, 0.9131])\n"
     ]
    }
   ],
   "source": [
    "# indexing\n",
    "\n",
    "batch_size = 10\n",
    "features = 25\n",
    "x = torch.rand(batch_size, features)\n",
    "\n",
    "print(x[0].shape)\n",
    "print(x[0,:])"
   ]
  },
  {
   "cell_type": "code",
   "execution_count": 90,
   "metadata": {},
   "outputs": [
    {
     "name": "stdout",
     "output_type": "stream",
     "text": [
      "tensor([0.6110, 0.3072, 0.0147, 0.7893, 0.2241, 0.3380, 0.4320, 0.1654, 0.6214,\n",
      "        0.3933])\n",
      "torch.Size([10])\n"
     ]
    }
   ],
   "source": [
    "print(x[:,0])\n",
    "print(x[:,0].shape)"
   ]
  },
  {
   "cell_type": "code",
   "execution_count": 92,
   "metadata": {},
   "outputs": [
    {
     "name": "stdout",
     "output_type": "stream",
     "text": [
      "tensor([0.0147, 0.5716, 0.2059, 0.8876, 0.4700, 0.8069, 0.5599, 0.0614, 0.2733,\n",
      "        0.9174])\n"
     ]
    }
   ],
   "source": [
    "print(x[2,0:10])"
   ]
  },
  {
   "cell_type": "code",
   "execution_count": 93,
   "metadata": {},
   "outputs": [],
   "source": [
    "x[0,0] = 100"
   ]
  },
  {
   "cell_type": "code",
   "execution_count": 94,
   "metadata": {},
   "outputs": [
    {
     "name": "stdout",
     "output_type": "stream",
     "text": [
      "tensor([0, 1, 2, 3, 4, 5, 6, 7, 8, 9])\n",
      "tensor([2, 5, 8])\n"
     ]
    }
   ],
   "source": [
    "x = torch.arange(10)\n",
    "print(x)\n",
    "indices = [2,5,8]\n",
    "print(x[indices])"
   ]
  },
  {
   "cell_type": "code",
   "execution_count": 96,
   "metadata": {},
   "outputs": [
    {
     "name": "stdout",
     "output_type": "stream",
     "text": [
      "tensor([[0.7653, 0.9565, 0.9580, 0.7850, 0.2878],\n",
      "        [0.7848, 0.1543, 0.3807, 0.7582, 0.9891],\n",
      "        [0.5193, 0.1172, 0.1165, 0.0130, 0.2235]])\n",
      "tensor([0.9891, 0.7653])\n",
      "torch.Size([2])\n"
     ]
    }
   ],
   "source": [
    "x = torch.rand(3,5)\n",
    "r = torch.tensor([1,0])\n",
    "c = torch.tensor([4,0])\n",
    "print(x)\n",
    "print(x[r,c])\n",
    "print(x[r,c].shape)"
   ]
  },
  {
   "cell_type": "code",
   "execution_count": 102,
   "metadata": {},
   "outputs": [
    {
     "name": "stdout",
     "output_type": "stream",
     "text": [
      "tensor([0, 1, 9])\n",
      "tensor([], dtype=torch.int64)\n",
      "tensor([0, 2, 4, 6, 8])\n"
     ]
    }
   ],
   "source": [
    "x = torch.arange(10)\n",
    "print(x[(x<2) | (x>8)])\n",
    "print(x[(x<2) & (x>8)])\n",
    "print(x[x.remainder(2)==0])"
   ]
  },
  {
   "cell_type": "code",
   "execution_count": 103,
   "metadata": {},
   "outputs": [
    {
     "name": "stdout",
     "output_type": "stream",
     "text": [
      "tensor([ 0,  1,  4,  9, 16, 25,  6,  7,  8,  9])\n"
     ]
    }
   ],
   "source": [
    "print(torch.where(x>5, x, x**2))"
   ]
  },
  {
   "cell_type": "code",
   "execution_count": 104,
   "metadata": {},
   "outputs": [
    {
     "name": "stdout",
     "output_type": "stream",
     "text": [
      "tensor([0, 1, 2, 3, 4, 5])\n"
     ]
    }
   ],
   "source": [
    "print(torch.tensor([0,0,1,2,3,4,5]).unique())"
   ]
  },
  {
   "cell_type": "code",
   "execution_count": 108,
   "metadata": {},
   "outputs": [
    {
     "name": "stdout",
     "output_type": "stream",
     "text": [
      "3\n",
      "120\n"
     ]
    }
   ],
   "source": [
    "x = torch.rand(5,6,4)\n",
    "print(x.ndimension())\n",
    "print(x.numel())"
   ]
  },
  {
   "cell_type": "code",
   "execution_count": 109,
   "metadata": {},
   "outputs": [
    {
     "name": "stdout",
     "output_type": "stream",
     "text": [
      "tensor([[0, 1, 2],\n",
      "        [3, 4, 5],\n",
      "        [6, 7, 8]])\n",
      "tensor([[0, 1, 2],\n",
      "        [3, 4, 5],\n",
      "        [6, 7, 8]])\n"
     ]
    }
   ],
   "source": [
    "# reshape\n",
    "\n",
    "x = torch.arange(9)\n",
    "\n",
    "x_3_3 = x.view(3,3)\n",
    "print(x_3_3)\n",
    "x_3_3 = x.reshape(3,3)\n",
    "print(x_3_3)"
   ]
  },
  {
   "cell_type": "code",
   "execution_count": 111,
   "metadata": {},
   "outputs": [
    {
     "name": "stdout",
     "output_type": "stream",
     "text": [
      "tensor([[0, 3, 6],\n",
      "        [1, 4, 7],\n",
      "        [2, 5, 8]])\n"
     ]
    },
    {
     "ename": "RuntimeError",
     "evalue": "view size is not compatible with input tensor's size and stride (at least one dimension spans across two contiguous subspaces). Use .reshape(...) instead.",
     "output_type": "error",
     "traceback": [
      "\u001b[1;31m---------------------------------------------------------------------------\u001b[0m",
      "\u001b[1;31mRuntimeError\u001b[0m                              Traceback (most recent call last)",
      "\u001b[1;32md:\\pytorch_materials\\01_basic.ipynb Cell 57\u001b[0m in \u001b[0;36m<cell line: 3>\u001b[1;34m()\u001b[0m\n\u001b[0;32m      <a href='vscode-notebook-cell:/d%3A/pytorch_materials/01_basic.ipynb#Y110sZmlsZQ%3D%3D?line=0'>1</a>\u001b[0m y \u001b[39m=\u001b[39m x_3_3\u001b[39m.\u001b[39mt()\n\u001b[0;32m      <a href='vscode-notebook-cell:/d%3A/pytorch_materials/01_basic.ipynb#Y110sZmlsZQ%3D%3D?line=1'>2</a>\u001b[0m \u001b[39mprint\u001b[39m(y)\n\u001b[1;32m----> <a href='vscode-notebook-cell:/d%3A/pytorch_materials/01_basic.ipynb#Y110sZmlsZQ%3D%3D?line=2'>3</a>\u001b[0m \u001b[39mprint\u001b[39m(y\u001b[39m.\u001b[39;49mview(\u001b[39m9\u001b[39;49m))\n",
      "\u001b[1;31mRuntimeError\u001b[0m: view size is not compatible with input tensor's size and stride (at least one dimension spans across two contiguous subspaces). Use .reshape(...) instead."
     ]
    }
   ],
   "source": [
    "y = x_3_3.t()\n",
    "print(y)\n",
    "print(y.view(9))"
   ]
  },
  {
   "cell_type": "code",
   "execution_count": 112,
   "metadata": {},
   "outputs": [
    {
     "name": "stdout",
     "output_type": "stream",
     "text": [
      "tensor([0, 3, 6, 1, 4, 7, 2, 5, 8])\n"
     ]
    }
   ],
   "source": [
    "print(y.reshape(9))"
   ]
  },
  {
   "cell_type": "code",
   "execution_count": 115,
   "metadata": {},
   "outputs": [
    {
     "name": "stdout",
     "output_type": "stream",
     "text": [
      "tensor([[0.9768, 0.3728, 0.4420, 0.7005, 0.6968],\n",
      "        [0.5216, 0.8484, 0.6567, 0.1194, 0.0951]])\n",
      "tensor([[0.4742, 0.2730, 0.7670, 0.9696, 0.7315],\n",
      "        [0.4094, 0.1482, 0.6894, 0.1865, 0.2258]])\n",
      "tensor([[0.9768, 0.3728, 0.4420, 0.7005, 0.6968],\n",
      "        [0.5216, 0.8484, 0.6567, 0.1194, 0.0951],\n",
      "        [0.4742, 0.2730, 0.7670, 0.9696, 0.7315],\n",
      "        [0.4094, 0.1482, 0.6894, 0.1865, 0.2258]])\n",
      "torch.Size([4, 5])\n",
      "tensor([[0.9768, 0.3728, 0.4420, 0.7005, 0.6968, 0.4742, 0.2730, 0.7670, 0.9696,\n",
      "         0.7315],\n",
      "        [0.5216, 0.8484, 0.6567, 0.1194, 0.0951, 0.4094, 0.1482, 0.6894, 0.1865,\n",
      "         0.2258]])\n",
      "torch.Size([2, 10])\n"
     ]
    }
   ],
   "source": [
    "x1 = torch.rand((2,5))\n",
    "x2 = torch.rand((2,5))\n",
    "print(x1)\n",
    "print(x2)\n",
    "print(torch.cat((x1,x2), dim=0))\n",
    "print(torch.cat((x1,x2), dim=0).shape)\n",
    "\n",
    "print(torch.cat((x1,x2), dim=1))\n",
    "print(torch.cat((x1,x2), dim=1).shape)"
   ]
  },
  {
   "cell_type": "code",
   "execution_count": 116,
   "metadata": {},
   "outputs": [
    {
     "name": "stdout",
     "output_type": "stream",
     "text": [
      "torch.Size([10])\n"
     ]
    }
   ],
   "source": [
    "z = x1.view(-1)\n",
    "print(z.shape)"
   ]
  },
  {
   "cell_type": "code",
   "execution_count": 117,
   "metadata": {},
   "outputs": [
    {
     "name": "stdout",
     "output_type": "stream",
     "text": [
      "torch.Size([64, 10])\n"
     ]
    }
   ],
   "source": [
    "batch = 64\n",
    "x = torch.rand(batch, 2, 5)\n",
    "z = x.view(batch, -1)\n",
    "print(z.shape)"
   ]
  },
  {
   "cell_type": "code",
   "execution_count": 120,
   "metadata": {},
   "outputs": [
    {
     "name": "stdout",
     "output_type": "stream",
     "text": [
      "torch.Size([64, 5, 2])\n"
     ]
    }
   ],
   "source": [
    "z = x.permute(0,2,1)\n",
    "print(z.shape)"
   ]
  },
  {
   "cell_type": "code",
   "execution_count": 123,
   "metadata": {},
   "outputs": [
    {
     "name": "stdout",
     "output_type": "stream",
     "text": [
      "torch.Size([10])\n",
      "torch.Size([1, 10])\n",
      "torch.Size([10, 1])\n"
     ]
    }
   ],
   "source": [
    "x = torch.arange(10)\n",
    "print(x.shape)\n",
    "print(x.unsqueeze(0).shape)\n",
    "print(x.unsqueeze(1).shape)"
   ]
  },
  {
   "cell_type": "code",
   "execution_count": 124,
   "metadata": {},
   "outputs": [
    {
     "name": "stdout",
     "output_type": "stream",
     "text": [
      "torch.Size([1, 1, 10])\n"
     ]
    }
   ],
   "source": [
    "x = torch.arange(10).unsqueeze(0).unsqueeze(1)\n",
    "print(x.shape)"
   ]
  },
  {
   "cell_type": "code",
   "execution_count": null,
   "metadata": {},
   "outputs": [],
   "source": []
  }
 ],
 "metadata": {
  "kernelspec": {
   "display_name": "Python 3.9.12 ('pytorch1.11')",
   "language": "python",
   "name": "python3"
  },
  "language_info": {
   "codemirror_mode": {
    "name": "ipython",
    "version": 3
   },
   "file_extension": ".py",
   "mimetype": "text/x-python",
   "name": "python",
   "nbconvert_exporter": "python",
   "pygments_lexer": "ipython3",
   "version": "3.9.12"
  },
  "orig_nbformat": 4,
  "vscode": {
   "interpreter": {
    "hash": "1fad841e4cd9f1a725af0ab674b147897c833fa06078ad76bbc992ec4a185d9c"
   }
  }
 },
 "nbformat": 4,
 "nbformat_minor": 2
}
